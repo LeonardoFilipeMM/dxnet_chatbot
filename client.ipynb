{
 "cells": [
  {
   "cell_type": "markdown",
   "metadata": {},
   "source": [
    "# Importing libraries"
   ]
  },
  {
   "cell_type": "code",
   "execution_count": 1,
   "metadata": {},
   "outputs": [],
   "source": [
    "import requests"
   ]
  },
  {
   "cell_type": "markdown",
   "metadata": {},
   "source": [
    "# Chat with chatbot"
   ]
  },
  {
   "cell_type": "code",
   "execution_count": 2,
   "metadata": {},
   "outputs": [
    {
     "name": "stdout",
     "output_type": "stream",
     "text": [
      "YOU: 'Como encomendar um produto esgotado?'\n",
      "\n",
      "most_similar_question: \"Posso encomendar um produto se estiver listado como 'esgotado'?\"\n",
      "\n",
      "CHATBOT: \"Se um produto estiver listado como 'esgotado', está atualmente indisponível para compra. Por favor, verifique novamente mais tarde ou subscreva notificações para ser alertado quando estiver disponível novamente.\"\n"
     ]
    }
   ],
   "source": [
    "base_url = 'http://127.0.0.1:8000'\n",
    "endpoint = '/chat'\n",
    "full_url = f\"{base_url}{endpoint}\"\n",
    "def response_from_server(url, query, verbose=True):\n",
    "    \"\"\"Makes a POST request to the server and returns the response.\n",
    "\n",
    "    Args:\n",
    "        url (str): URL that the request is sent to.\n",
    "        query (str): Query to upload, should be a str.\n",
    "        verbose (bool): True if the status of the response should be printed. False otherwise.\n",
    "\n",
    "    Returns:\n",
    "        requests.models.Response: Response from the server.\n",
    "    \"\"\"\n",
    "    \n",
    "    response = requests.post(url, data={'query': user_question})\n",
    "    status_code = response.status_code\n",
    "    if verbose:\n",
    "        if status_code == 200:\n",
    "            response_data = response.json()\n",
    "            msg = f\"YOU: '{response_data['YOU']}'\\n\\n\"\\\n",
    "                    f\"most_similar_question: \\\"{response_data['most_similar_question']}\\\"\\n\\n\"\\\n",
    "                    f\"CHATBOT: \\\"{response_data['CHATBOT']}\\\"\"\n",
    "        else: \n",
    "            msg = \"There was an error when handling the request.\"\n",
    "        print(msg)\n",
    "    return response\n",
    "\n",
    "user_question = \"Como encomendar um produto esgotado?\"\n",
    "answer = response_from_server(full_url, user_question)"
   ]
  },
  {
   "cell_type": "code",
   "execution_count": 3,
   "metadata": {},
   "outputs": [
    {
     "name": "stdout",
     "output_type": "stream",
     "text": [
      "YOU: 'Posso devolver um produto?'\n",
      "\n",
      "most_similar_question: \"Posso devolver um produto se foi comprado com um cartão-presente?\"\n",
      "\n",
      "CHATBOT: \"Sim, pode devolver um produto comprado com um cartão-presente. O reembolso será emitido na forma de crédito na loja ou um novo cartão-presente.\"\n"
     ]
    }
   ],
   "source": [
    "user_question = \"Posso devolver um produto?\"\n",
    "answer = response_from_server(full_url, user_question)"
   ]
  }
 ],
 "metadata": {
  "kernelspec": {
   "display_name": "env",
   "language": "python",
   "name": "python3"
  },
  "language_info": {
   "codemirror_mode": {
    "name": "ipython",
    "version": 3
   },
   "file_extension": ".py",
   "mimetype": "text/x-python",
   "name": "python",
   "nbconvert_exporter": "python",
   "pygments_lexer": "ipython3",
   "version": "3.10.8"
  }
 },
 "nbformat": 4,
 "nbformat_minor": 2
}
