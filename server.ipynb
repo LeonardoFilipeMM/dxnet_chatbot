{
 "cells": [
  {
   "cell_type": "markdown",
   "metadata": {},
   "source": [
    "# Import libraries"
   ]
  },
  {
   "cell_type": "code",
   "execution_count": 1,
   "metadata": {},
   "outputs": [],
   "source": [
    "import json\n",
    "import os\n",
    "import pandas as pd\n",
    "import nltk\n",
    "from sklearn.feature_extraction.text import TfidfVectorizer\n",
    "from sklearn.metrics.pairwise import cosine_similarity\n",
    "import uvicorn\n",
    "from fastapi import FastAPI, Form\n",
    "from fastapi.responses import JSONResponse\n",
    "import nest_asyncio"
   ]
  },
  {
   "cell_type": "markdown",
   "metadata": {},
   "source": [
    "# Loading dataset"
   ]
  },
  {
   "cell_type": "code",
   "execution_count": 2,
   "metadata": {},
   "outputs": [
    {
     "data": {
      "text/html": [
       "<div>\n",
       "<style scoped>\n",
       "    .dataframe tbody tr th:only-of-type {\n",
       "        vertical-align: middle;\n",
       "    }\n",
       "\n",
       "    .dataframe tbody tr th {\n",
       "        vertical-align: top;\n",
       "    }\n",
       "\n",
       "    .dataframe thead th {\n",
       "        text-align: right;\n",
       "    }\n",
       "</style>\n",
       "<table border=\"1\" class=\"dataframe\">\n",
       "  <thead>\n",
       "    <tr style=\"text-align: right;\">\n",
       "      <th></th>\n",
       "      <th>question</th>\n",
       "      <th>answer</th>\n",
       "    </tr>\n",
       "  </thead>\n",
       "  <tbody>\n",
       "    <tr>\n",
       "      <th>0</th>\n",
       "      <td>Como é que posso criar uma conta?</td>\n",
       "      <td>Para criar uma conta, clique no botão 'Regista...</td>\n",
       "    </tr>\n",
       "    <tr>\n",
       "      <th>1</th>\n",
       "      <td>Que métodos de pagamento é que aceitam?</td>\n",
       "      <td>Aceitamos cartões de crédito, cartões de débit...</td>\n",
       "    </tr>\n",
       "    <tr>\n",
       "      <th>2</th>\n",
       "      <td>Como posso rastrear a minha encomenda?</td>\n",
       "      <td>Pode rastrear a sua encomenda ao iniciar sessã...</td>\n",
       "    </tr>\n",
       "    <tr>\n",
       "      <th>3</th>\n",
       "      <td>Qual é a vossa política de devolução?</td>\n",
       "      <td>A nossa política de devolução permite que devo...</td>\n",
       "    </tr>\n",
       "    <tr>\n",
       "      <th>4</th>\n",
       "      <td>Posso cancelar a minha encomenda?</td>\n",
       "      <td>Pode cancelar a sua encomenda se esta ainda nã...</td>\n",
       "    </tr>\n",
       "  </tbody>\n",
       "</table>\n",
       "</div>"
      ],
      "text/plain": [
       "                                  question  \\\n",
       "0        Como é que posso criar uma conta?   \n",
       "1  Que métodos de pagamento é que aceitam?   \n",
       "2   Como posso rastrear a minha encomenda?   \n",
       "3    Qual é a vossa política de devolução?   \n",
       "4        Posso cancelar a minha encomenda?   \n",
       "\n",
       "                                              answer  \n",
       "0  Para criar uma conta, clique no botão 'Regista...  \n",
       "1  Aceitamos cartões de crédito, cartões de débit...  \n",
       "2  Pode rastrear a sua encomenda ao iniciar sessã...  \n",
       "3  A nossa política de devolução permite que devo...  \n",
       "4  Pode cancelar a sua encomenda se esta ainda nã...  "
      ]
     },
     "execution_count": 2,
     "metadata": {},
     "output_type": "execute_result"
    }
   ],
   "source": [
    "DATA_DIR = \"./data\"\n",
    "with open(os.path.join(DATA_DIR, \"PT_Ecommerce_FAQ_Chatbot_dataset.json\"), 'r', encoding='utf-8') as file:\n",
    "    data = json.load(file)\n",
    "df = pd.DataFrame(data['questions'])\n",
    "df.reset_index(drop=True, inplace=True)\n",
    "df.head()"
   ]
  },
  {
   "cell_type": "markdown",
   "metadata": {},
   "source": [
    "# Tokenizing questions"
   ]
  },
  {
   "cell_type": "code",
   "execution_count": 3,
   "metadata": {},
   "outputs": [
    {
     "name": "stderr",
     "output_type": "stream",
     "text": [
      "[nltk_data] Downloading package stopwords to\n",
      "[nltk_data]     C:\\Users\\leona\\AppData\\Roaming\\nltk_data...\n",
      "[nltk_data]   Package stopwords is already up-to-date!\n",
      "[nltk_data] Downloading package punkt to\n",
      "[nltk_data]     C:\\Users\\leona\\AppData\\Roaming\\nltk_data...\n",
      "[nltk_data]   Package punkt is already up-to-date!\n"
     ]
    },
    {
     "data": {
      "text/html": [
       "<div>\n",
       "<style scoped>\n",
       "    .dataframe tbody tr th:only-of-type {\n",
       "        vertical-align: middle;\n",
       "    }\n",
       "\n",
       "    .dataframe tbody tr th {\n",
       "        vertical-align: top;\n",
       "    }\n",
       "\n",
       "    .dataframe thead th {\n",
       "        text-align: right;\n",
       "    }\n",
       "</style>\n",
       "<table border=\"1\" class=\"dataframe\">\n",
       "  <thead>\n",
       "    <tr style=\"text-align: right;\">\n",
       "      <th></th>\n",
       "      <th>question</th>\n",
       "      <th>answer</th>\n",
       "      <th>tokenized_question</th>\n",
       "    </tr>\n",
       "  </thead>\n",
       "  <tbody>\n",
       "    <tr>\n",
       "      <th>0</th>\n",
       "      <td>Como é que posso criar uma conta?</td>\n",
       "      <td>Para criar uma conta, clique no botão 'Regista...</td>\n",
       "      <td>posso criar conta</td>\n",
       "    </tr>\n",
       "    <tr>\n",
       "      <th>1</th>\n",
       "      <td>Que métodos de pagamento é que aceitam?</td>\n",
       "      <td>Aceitamos cartões de crédito, cartões de débit...</td>\n",
       "      <td>método pagamento aceitam</td>\n",
       "    </tr>\n",
       "    <tr>\n",
       "      <th>2</th>\n",
       "      <td>Como posso rastrear a minha encomenda?</td>\n",
       "      <td>Pode rastrear a sua encomenda ao iniciar sessã...</td>\n",
       "      <td>posso rastrear encomenda</td>\n",
       "    </tr>\n",
       "    <tr>\n",
       "      <th>3</th>\n",
       "      <td>Qual é a vossa política de devolução?</td>\n",
       "      <td>A nossa política de devolução permite que devo...</td>\n",
       "      <td>vossa política devolução</td>\n",
       "    </tr>\n",
       "    <tr>\n",
       "      <th>4</th>\n",
       "      <td>Posso cancelar a minha encomenda?</td>\n",
       "      <td>Pode cancelar a sua encomenda se esta ainda nã...</td>\n",
       "      <td>posso cancelar encomenda</td>\n",
       "    </tr>\n",
       "  </tbody>\n",
       "</table>\n",
       "</div>"
      ],
      "text/plain": [
       "                                  question  \\\n",
       "0        Como é que posso criar uma conta?   \n",
       "1  Que métodos de pagamento é que aceitam?   \n",
       "2   Como posso rastrear a minha encomenda?   \n",
       "3    Qual é a vossa política de devolução?   \n",
       "4        Posso cancelar a minha encomenda?   \n",
       "\n",
       "                                              answer        tokenized_question  \n",
       "0  Para criar uma conta, clique no botão 'Regista...         posso criar conta  \n",
       "1  Aceitamos cartões de crédito, cartões de débit...  método pagamento aceitam  \n",
       "2  Pode rastrear a sua encomenda ao iniciar sessã...  posso rastrear encomenda  \n",
       "3  A nossa política de devolução permite que devo...  vossa política devolução  \n",
       "4  Pode cancelar a sua encomenda se esta ainda nã...  posso cancelar encomenda  "
      ]
     },
     "execution_count": 3,
     "metadata": {},
     "output_type": "execute_result"
    }
   ],
   "source": [
    "# Tokenization, Removing Stopwords, and Special Characters\n",
    "nltk.download('stopwords')\n",
    "nltk.download('punkt')\n",
    "stopwords_pt = set(nltk.corpus.stopwords.words('portuguese'))\n",
    "def tokenize_and_clean(text):\n",
    "    ps = nltk.stem.PorterStemmer()\n",
    "    tokens = nltk.word_tokenize(text.lower())\n",
    "    tokens = [ps.stem(token) for token in tokens if token.isalpha() and token not in stopwords_pt]\n",
    "    return ' '.join(tokens)\n",
    "df['tokenized_question'] = df['question'].apply(tokenize_and_clean)\n",
    "df.head()"
   ]
  },
  {
   "cell_type": "markdown",
   "metadata": {},
   "source": [
    "# Vectorizing questions"
   ]
  },
  {
   "cell_type": "code",
   "execution_count": 4,
   "metadata": {},
   "outputs": [
    {
     "data": {
      "text/plain": [
       "<49x96 sparse matrix of type '<class 'numpy.float64'>'\n",
       "\twith 224 stored elements in Compressed Sparse Row format>"
      ]
     },
     "execution_count": 4,
     "metadata": {},
     "output_type": "execute_result"
    }
   ],
   "source": [
    "# Vetorização usando TF-IDF\n",
    "vectorizer = TfidfVectorizer()\n",
    "vectorized_question = vectorizer.fit_transform(df['tokenized_question'])\n",
    "vectorized_question"
   ]
  },
  {
   "cell_type": "markdown",
   "metadata": {},
   "source": [
    "# Creating chatbot using cosine_similarities to obtain most probable answer"
   ]
  },
  {
   "cell_type": "code",
   "execution_count": 5,
   "metadata": {},
   "outputs": [],
   "source": [
    "def find_most_similar_question(query, vectorizer, model, df, vector_question):\n",
    "    query = tokenize_and_clean(query)\n",
    "    query_vectorized = vectorizer.transform([query])\n",
    "    similarities = model(query_vectorized, vector_question)[0]\n",
    "    print(similarities.max())\n",
    "    if similarities.max() < 0.2:\n",
    "        most_similar_question = \"NA\"\n",
    "        most_similar_answer = \"Devido a ser um chatbot desenvolvido para uma plataforma de E-commerce não consigo responder a essa questão. Por favor reformule a questão.\"\n",
    "    else:\n",
    "        most_similar_index = similarities.argmax()\n",
    "        most_similar_question = df.iloc[most_similar_index]['question']\n",
    "        most_similar_answer = df.iloc[most_similar_index]['answer']\n",
    "    return most_similar_question, most_similar_answer"
   ]
  },
  {
   "cell_type": "code",
   "execution_count": 6,
   "metadata": {},
   "outputs": [
    {
     "name": "stdout",
     "output_type": "stream",
     "text": [
      "0.5385446685308316\n",
      "Pergunta de exemplo: pagamento\n",
      "Pergunta mais similar: Que métodos de pagamento é que aceitam?\n",
      "Resposta correspondente: Aceitamos cartões de crédito, cartões de débito e PayPal como métodos de pagamento para encomendas online.\n"
     ]
    }
   ],
   "source": [
    "example_question = \"pagamento\"\n",
    "most_similar_question, most_similar_answer = find_most_similar_question(example_question, vectorizer, cosine_similarity, df, vectorized_question)\n",
    "print(f\"Pergunta de exemplo: {example_question}\")\n",
    "print(f\"Pergunta mais similar: {most_similar_question}\")\n",
    "print(f\"Resposta correspondente: {most_similar_answer}\")"
   ]
  },
  {
   "cell_type": "markdown",
   "metadata": {},
   "source": [
    "# Running the server"
   ]
  },
  {
   "cell_type": "code",
   "execution_count": 7,
   "metadata": {},
   "outputs": [
    {
     "name": "stderr",
     "output_type": "stream",
     "text": [
      "[nltk_data] Downloading package stopwords to\n",
      "[nltk_data]     C:\\Users\\leona\\AppData\\Roaming\\nltk_data...\n",
      "[nltk_data]   Package stopwords is already up-to-date!\n",
      "[nltk_data] Downloading package punkt to\n",
      "[nltk_data]     C:\\Users\\leona\\AppData\\Roaming\\nltk_data...\n",
      "[nltk_data]   Package punkt is already up-to-date!\n",
      "INFO:     Started server process [18888]\n",
      "INFO:     Waiting for application startup.\n",
      "INFO:     Application startup complete.\n",
      "INFO:     Uvicorn running on http://127.0.0.1:8000 (Press CTRL+C to quit)\n"
     ]
    },
    {
     "name": "stdout",
     "output_type": "stream",
     "text": [
      "INFO:     127.0.0.1:57407 - \"POST /chat HTTP/1.1\" 200 OK\n",
      "INFO:     127.0.0.1:57408 - \"POST /chat HTTP/1.1\" 200 OK\n"
     ]
    },
    {
     "name": "stderr",
     "output_type": "stream",
     "text": [
      "INFO:     Shutting down\n",
      "INFO:     Waiting for application shutdown.\n",
      "INFO:     Application shutdown complete.\n",
      "INFO:     Finished server process [18888]\n"
     ]
    }
   ],
   "source": [
    "DATA_DIR = \"./data\"\n",
    "DATASET_NAME = \"PT_Ecommerce_FAQ_Chatbot_dataset.json\"\n",
    "LOG_DIR = \"./log\"\n",
    "nltk.download('stopwords')\n",
    "nltk.download('punkt')\n",
    "stopwords_pt = set(nltk.corpus.stopwords.words('portuguese'))\n",
    "if not os.path.exists(LOG_DIR):\n",
    "    os.mkdir(LOG_DIR)\n",
    "\n",
    "#Read data\n",
    "def read_data():\n",
    "    with open(os.path.join(DATA_DIR, DATASET_NAME), 'r', encoding='utf-8') as file:\n",
    "        data = json.load(file)\n",
    "    df = pd.DataFrame(data['questions'])\n",
    "    df.reset_index(drop=True, inplace=True)\n",
    "    return df\n",
    "\n",
    "#tokenize sentences\n",
    "def tokenize_and_clean(text):\n",
    "    ps = nltk.stem.PorterStemmer()\n",
    "    tokens = nltk.word_tokenize(text.lower())\n",
    "    tokens = [ps.stem(token) for token in tokens if token.isalpha() and token not in stopwords_pt]\n",
    "    return ' '.join(tokens)\n",
    "\n",
    "#preprocess the dataframe\n",
    "def preprocess_text(df):\n",
    "    df_ = df.copy()\n",
    "    df_['tokenized_question'] = df_['question'].apply(tokenize_and_clean)\n",
    "    vectorizer = TfidfVectorizer()\n",
    "    vectorized_question = vectorizer.fit_transform(df_['tokenized_question'])\n",
    "    return df_, vectorizer, vectorized_question\n",
    "\n",
    "def find_most_similar_question(query, vectorizer, model, df, vector_question):\n",
    "    query = tokenize_and_clean(query)\n",
    "    query_vectorized = vectorizer.transform([query])\n",
    "    similarities = model(query_vectorized, vector_question)[0]\n",
    "    if similarities.max() < 0.2:\n",
    "        most_similar_question = \"NA\"\n",
    "        most_similar_answer = \"Devido a ser um chatbot desenvolvido para uma plataforma de E-commerce não consigo responder a essa questão. Por favor reformule a questão.\"\n",
    "    else:\n",
    "        most_similar_index = similarities.argmax()\n",
    "        most_similar_question = df.iloc[most_similar_index]['question']\n",
    "        most_similar_answer = df.iloc[most_similar_index]['answer']\n",
    "    return most_similar_question, most_similar_answer\n",
    "\n",
    "app = FastAPI(title='Deploying a chatbot with FastAPI')\n",
    "\n",
    "df = read_data()\n",
    "preprocessed_df, vectorizer, vectorized_question = preprocess_text(df)\n",
    "\n",
    "@app.get(\"/\")\n",
    "def home():\n",
    "    return \"API is working as expected. Now head over to http://localhost:8000/docs.\"\n",
    "\n",
    "@app.post(\"/chat\") \n",
    "def chat(query:str= Form(...)):\n",
    "\n",
    "    most_similar_question, most_similar_answer = find_most_similar_question(query, vectorizer, cosine_similarity, preprocessed_df, vectorized_question)\n",
    "    stream_response = {\n",
    "        'YOU': query,\n",
    "        'most_similar_question': most_similar_question,\n",
    "        'CHATBOT': most_similar_answer\n",
    "    }\n",
    "    with open(os.path.join(LOG_DIR, \"log.txt\"), 'a', encoding='utf-8') as log:\n",
    "        log.write(json.dumps(stream_response) + '\\n')\n",
    "\n",
    "    return JSONResponse(stream_response)\n",
    "\n",
    "nest_asyncio.apply()\n",
    "uvicorn.run(app, host= \"127.0.0.1\", port=8000)"
   ]
  },
  {
   "cell_type": "markdown",
   "metadata": {},
   "source": [
    "#### Go to http://127.0.0.1:8000/docs or run the client.ipynb notebook. Don't stop this notebook as it will be the server"
   ]
  },
  {
   "cell_type": "code",
   "execution_count": null,
   "metadata": {},
   "outputs": [],
   "source": []
  }
 ],
 "metadata": {
  "kernelspec": {
   "display_name": "env",
   "language": "python",
   "name": "python3"
  },
  "language_info": {
   "codemirror_mode": {
    "name": "ipython",
    "version": 3
   },
   "file_extension": ".py",
   "mimetype": "text/x-python",
   "name": "python",
   "nbconvert_exporter": "python",
   "pygments_lexer": "ipython3",
   "version": "3.10.8"
  },
  "orig_nbformat": 4
 },
 "nbformat": 4,
 "nbformat_minor": 2
}
